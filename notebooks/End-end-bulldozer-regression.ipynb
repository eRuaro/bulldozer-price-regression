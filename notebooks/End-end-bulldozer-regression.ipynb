{
 "metadata": {
  "language_info": {
   "codemirror_mode": {
    "name": "ipython",
    "version": 3
   },
   "file_extension": ".py",
   "mimetype": "text/x-python",
   "name": "python",
   "nbconvert_exporter": "python",
   "pygments_lexer": "ipython3",
   "version": "3.8.5"
  },
  "orig_nbformat": 4,
  "kernelspec": {
   "name": "python3",
   "display_name": "Python 3.8.5 64-bit ('base': conda)"
  },
  "interpreter": {
   "hash": "453981eff4ab8362ad45d04d2bee1af1dd19a25edc7b6b4e10b4f3735a1ee7a5"
  }
 },
 "nbformat": 4,
 "nbformat_minor": 2,
 "cells": [
  {
   "source": [
    "# Predicting the Sale Price of Bulldozers using Machine Learning\n",
    "\n",
    "We're going to go through a machine learning project with the goal of predicting the sale price of bulldozers \n",
    "\n",
    "## 1. Problem Definition\n",
    "> How well can we predict the future sale price of a bulldozer, given its characteristics and previous examples of how much similar bulldozer have been solved for?\n",
    "\n",
    "## 2. Data\n",
    "The data is downloaded from the Kaggle Blubook for Bulldozers competition.\n",
    "\n",
    "The dataset is split into three parts which could be downloaded [here](https://www.kaggle.com/c/bluebook-for-bulldozers/data):\n",
    "\n",
    "    Train.csv is the training set, which contains data through the end of 2011.\n",
    "    Valid.csv is the validation set, which contains data from January 1, 2012 - April 30, 2012 You make predictions on this set throughout the majority of the competition. Your score on this set is used to create the public leaderboard.\n",
    "    Test.csv is the test set, which won't be released until the last week of the competition. It contains data from May 1, 2012 - November 2012. Your score on the test set determines your final rank for the competition.\n",
    "\n",
    "The key fields are in train.csv are:\n",
    "\n",
    "    SalesID: the uniue identifier of the sale\n",
    "    MachineID: the unique identifier of a machine.  A machine can be sold multiple times\n",
    "    saleprice: what the machine sold for at auction (only provided in train.csv)\n",
    "    saledate: the date of the sale\n",
    "\n",
    "## 3. Evaluation\n",
    "The evaluation metric is the RMSLE (root mean squared log error) between the actual and prediction auction prices.\n",
    "\n",
    "## 4. Features\n",
    "Seen in Data Dictionary in [Kaggle](https://www.kaggle.com/c/bluebook-for-bulldozers/data). "
   ],
   "cell_type": "markdown",
   "metadata": {}
  },
  {
   "cell_type": "code",
   "execution_count": 1,
   "metadata": {},
   "outputs": [],
   "source": [
    "import numpy as np\n",
    "import pandas as pd\n",
    "%matplotlib inline \n",
    "import matplotlib.pyplot as plt \n",
    "import sklearn"
   ]
  }
 ]
}